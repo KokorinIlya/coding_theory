{
 "cells": [
  {
   "cell_type": "code",
   "execution_count": 1,
   "metadata": {
    "pycharm": {
     "is_executing": false
    }
   },
   "outputs": [],
   "source": [
    "import numpy as np\n",
    "import math\n",
    "import matplotlib.pyplot as plt\n",
    "from tqdm import tqdm"
   ]
  },
  {
   "cell_type": "code",
   "execution_count": 2,
   "metadata": {},
   "outputs": [],
   "source": [
    "# Подсчитывает расстояние Хэмминга\n",
    "def vector_dist(vect1, vect2):\n",
    "    return np.sum(np.abs(vect1 - vect2))\n",
    "\n",
    "# Перемножает матрицы в F2\n",
    "def multiply_matrix(mat1, mat2):\n",
    "    return np.mod(np.dot(mat1, mat2), 2)\n",
    "\n",
    "# Получает все возможные двоичные вектора заданной длины\n",
    "def generate_binary_vectors(vect_len):\n",
    "    def get_all_vectors(vector_len, cur_vectors):\n",
    "        if len(cur_vectors[0]) == vector_len: # если вектора уже нужного размера, возвращаем их\n",
    "            return cur_vectors\n",
    "        \n",
    "        # в противном случае каждый вектор может быть продолжен двумя способами:\n",
    "        # нулём и единицей\n",
    "        new_vectors = []\n",
    "        for cur_vector in cur_vectors:\n",
    "            cur_vector_zero = cur_vector[:]\n",
    "            cur_vector_zero.append(0)\n",
    "\n",
    "            cur_vector_one = cur_vector[:]\n",
    "            cur_vector_one.append(1)\n",
    "            new_vectors.append(cur_vector_zero)\n",
    "            new_vectors.append(cur_vector_one)\n",
    "        return get_all_vectors(vector_len, new_vectors)\n",
    "    \n",
    "    answer = get_all_vectors(vect_len, [[]])\n",
    "    assert len(answer) == 2 ** vect_len\n",
    "    \n",
    "    # оборачиваем в numpy-массивы для ускорения вычислений\n",
    "    return np.array(answer)"
   ]
  },
  {
   "cell_type": "code",
   "execution_count": 3,
   "metadata": {},
   "outputs": [],
   "source": [
    "# Порождающая матрица\n",
    "G = np.array(\n",
    "    [\n",
    "        [1, 0, 0, 0, 0, 0, 1, 0, 1, 1],\n",
    "        [0, 1, 0, 0, 0, 0, 1, 1, 0, 1],\n",
    "        [0, 0, 1, 0, 0, 0, 0, 1, 0, 1],\n",
    "        [0, 0, 0, 1, 0, 0, 0, 1, 1, 0],\n",
    "        [0, 0, 0, 0, 1, 0, 1, 1, 0, 0],\n",
    "        [0, 0, 0, 0, 0, 1, 1, 1, 1, 0]\n",
    "    ]\n",
    ")\n",
    "\n",
    "# 6 - размер сообщения до кодирования\n",
    "# 10 - размер сообщения после кодирования\n",
    "k = 6\n",
    "n = 10\n",
    "\n",
    "Eb = 1 # Фиксируем произвольным образом энергию на передаваемый бит\n",
    "\n",
    "# Передаваемые сообщения - все вектора размера k\n",
    "messages = generate_binary_vectors(k)\n",
    "assert messages.shape == (2 ** k, k)"
   ]
  },
  {
   "cell_type": "code",
   "execution_count": 4,
   "metadata": {},
   "outputs": [],
   "source": [
    "# Проверочная матрица\n",
    "H = np.array(\n",
    "    [\n",
    "        [0, 0, 0, 0, 1, 0, 0, 1, 1, 1],\n",
    "        [1, 0, 1, 1, 1, 0, 1, 0, 1, 1],\n",
    "        [0, 1, 0, 1, 0, 0, 1, 1, 0, 1],\n",
    "        [1, 0, 0, 1, 0, 1, 0, 0, 1, 0]\n",
    "    ]\n",
    ")\n",
    "\n",
    "H_T = np.transpose(H)\n",
    "assert (multiply_matrix(G, H_T) == np.zeros(shape=(6, 4))).all()"
   ]
  },
  {
   "cell_type": "code",
   "execution_count": 5,
   "metadata": {},
   "outputs": [],
   "source": [
    "codewords = np.array([\n",
    "    multiply_matrix(cur_message, G) for cur_message in messages\n",
    "])\n",
    "\n",
    "assert codewords.shape == (2 ** k, n)"
   ]
  },
  {
   "cell_type": "code",
   "execution_count": 6,
   "metadata": {},
   "outputs": [],
   "source": [
    "# При жёстком декодировании полученный вектор должен быть битовым\n",
    "# а при мягком - состоять из модуляций    \n",
    "def decode_hard(received_word, codewords):\n",
    "    distances = np.array([vector_dist(received_word, cur_codeword) for cur_codeword in codewords])\n",
    "    return messages[np.argmin(distances)]\n",
    "\n",
    "def decode_soft(received_word, codewords):\n",
    "    modulated_codewords = np.array([(2 * codeword - 1) for codeword in codewords])\n",
    "    scalar_products = np.array([\n",
    "        np.dot(cur_modulated_codeword, received_word) for cur_modulated_codeword in modulated_codewords\n",
    "    ])\n",
    "    return messages[np.argmax(scalar_products)]\n",
    "    \n",
    "# преобразует полученные модуляции в биты для жёсткого декодирования\n",
    "# в случае мягкого декодирования никак преобразовывать модуляции не надо\n",
    "demodulate_hard = np.vectorize(lambda x: 1 if x >= 0 else 0)    \n",
    "    \n",
    "# 10 * lg(Eb / N0) = t => lg(Eb / N0) = t / 10 => Eb / N0 = 10 ** (t / 10) => N0 = Eb / (10 ** (t / 10))\n",
    "# Таким образом можно вычислить N0\n",
    "# моделирует отправку по каналу с аддитивным белым гауссовским шумом\n",
    "def send(codeword_to_send, snr):\n",
    "    N0 = Eb / (10 ** (snr / 10)) # по отношению сингал/шум получаем N0\n",
    "    Ec = Eb * k / len(codeword_to_send) # энергия на передаваемый символ\n",
    "    noise = np.random.normal(0, math.sqrt(N0 / 2), len(codeword_to_send)) # добавляем аддитивный гауссовский белый шум\n",
    "    return (2 * codeword_to_send - 1) * math.sqrt(Ec) + noise"
   ]
  },
  {
   "cell_type": "code",
   "execution_count": 7,
   "metadata": {},
   "outputs": [],
   "source": [
    "# Моделирует отправку сообщения с кодированием\n",
    "def send_with_encoding(msg, snr, decoder_type):\n",
    "    code_word = multiply_matrix(msg, G) # По шестибитному слову получаем десятибитный код\n",
    "    # внося избыточность в данные\n",
    "    moduled_received = send(code_word, snr) # Превращение бит в модуляции и добавление АБГШ\n",
    "    if decoder_type == 'hard':\n",
    "        received_word = demodulate_hard(moduled_received)\n",
    "        received_msg = decode_hard(received_word, codewords)\n",
    "    else:\n",
    "        received_msg = decode_soft(moduled_received, codewords)\n",
    "    return vector_dist(msg, received_msg)\n",
    "\n",
    "# Моделирует отправку сообщения без кодирования\n",
    "def send_without_encoding(msg, snr, decoder_type):\n",
    "    signals = send(msg, snr)\n",
    "    if decoder_type == 'hard':\n",
    "        return vector_dist(msg, demodulate_hard(signals))\n",
    "    else:\n",
    "        received_msg = decode_soft(signals, messages)\n",
    "        return vector_dist(msg, received_msg)"
   ]
  },
  {
   "cell_type": "code",
   "execution_count": 8,
   "metadata": {},
   "outputs": [],
   "source": [
    "# message_sender - функция, используемая для моделирования отправки сообщения. Может\n",
    "# быть функцией с кодированием, а может без\n",
    "def get_p(snr, message_sender, decoder_type):\n",
    "    sum_res = 0\n",
    "    retries = 10000\n",
    "    for _ in range(retries):\n",
    "        for msg in messages:\n",
    "            sum_res += message_sender(msg, snr, decoder_type)\n",
    "    return sum_res / (retries * (2 ** k) * k)   "
   ]
  },
  {
   "cell_type": "code",
   "execution_count": 9,
   "metadata": {},
   "outputs": [],
   "source": [
    "snrs = list(np.arange(-2, 12, 0.25)) # различные отношения сигнал/шум\n",
    "p = 0.00001"
   ]
  },
  {
   "cell_type": "code",
   "execution_count": 10,
   "metadata": {},
   "outputs": [
    {
     "name": "stderr",
     "output_type": "stream",
     "text": [
      "100%|██████████| 56/56 [3:53:57<00:00, 250.66s/it]  \n"
     ]
    }
   ],
   "source": [
    "hard_encode = np.array([get_p(cur_snr, send_with_encoding, 'hard') for cur_snr in tqdm(snrs)])"
   ]
  },
  {
   "cell_type": "code",
   "execution_count": 11,
   "metadata": {},
   "outputs": [
    {
     "name": "stderr",
     "output_type": "stream",
     "text": [
      "100%|██████████| 56/56 [23:11<00:00, 24.86s/it]\n"
     ]
    }
   ],
   "source": [
    "hard_no_encode = np.array([get_p(cur_snr, send_without_encoding, 'hard') for cur_snr in tqdm(snrs)])"
   ]
  },
  {
   "cell_type": "code",
   "execution_count": 12,
   "metadata": {},
   "outputs": [
    {
     "data": {
      "text/plain": [
       "0.25"
      ]
     },
     "execution_count": 12,
     "metadata": {},
     "output_type": "execute_result"
    }
   ],
   "source": [
    "hard_encode_abs = abs(hard_encode - p)\n",
    "hard_no_encode_abs = abs(hard_no_encode - p)\n",
    "snrs[np.argmin(hard_no_encode_abs)] - snrs[np.argmin(hard_encode_abs)]\n",
    "# энергетический выигрыш на жёстком декодировании"
   ]
  },
  {
   "cell_type": "code",
   "execution_count": 13,
   "metadata": {
    "scrolled": true
   },
   "outputs": [
    {
     "data": {
      "image/png": "[encoded data removed]",
      "text/plain": [
       "<Figure size 432x288 with 1 Axes>"
      ]
     },
     "metadata": {
      "needs_background": "light"
     },
     "output_type": "display_data"
    }
   ],
   "source": [
    "plt.semilogy(snrs, hard_encode, label='Кодирование производилось')\n",
    "plt.semilogy(snrs, hard_no_encode, label='Кодирование не производилось')\n",
    "plt.legend(loc='upper right')\n",
    "plt.title('Зависимость p от Eb/N0 (Дб) при жёстком декодировании')\n",
    "plt.xlabel('Eb/N0 (дБ)')\n",
    "plt.ylabel('p')\n",
    "plt.grid(which='major')\n",
    "plt.show()"
   ]
  },
  {
   "cell_type": "code",
   "execution_count": 14,
   "metadata": {},
   "outputs": [
    {
     "name": "stderr",
     "output_type": "stream",
     "text": [
      "100%|██████████| 56/56 [2:42:18<00:00, 173.90s/it]  \n"
     ]
    }
   ],
   "source": [
    "soft_encode = np.array([get_p(cur_snr, send_with_encoding, 'soft') for cur_snr in tqdm(snrs)])"
   ]
  },
  {
   "cell_type": "code",
   "execution_count": 15,
   "metadata": {},
   "outputs": [
    {
     "name": "stderr",
     "output_type": "stream",
     "text": [
      "100%|██████████| 56/56 [8:07:12<00:00, 522.00s/it]    \n"
     ]
    }
   ],
   "source": [
    "soft_no_encode = np.array([get_p(cur_snr, send_without_encoding, 'soft') for cur_snr in tqdm(snrs)])"
   ]
  },
  {
   "cell_type": "code",
   "execution_count": 16,
   "metadata": {},
   "outputs": [
    {
     "data": {
      "text/plain": [
       "2.5"
      ]
     },
     "execution_count": 16,
     "metadata": {},
     "output_type": "execute_result"
    }
   ],
   "source": [
    "soft_encode_abs = abs(soft_encode - p)\n",
    "soft_no_encode_abs = abs(soft_no_encode - p)\n",
    "snrs[np.argmin(soft_no_encode_abs)] - snrs[np.argmin(soft_encode_abs)]\n",
    "# энергетический выигрыш на мягком декодировании"
   ]
  },
  {
   "cell_type": "code",
   "execution_count": 17,
   "metadata": {},
   "outputs": [
    {
     "data": {
      "image/png": "[encoded data removed]",
      "text/plain": [
       "<Figure size 432x288 with 1 Axes>"
      ]
     },
     "metadata": {
      "needs_background": "light"
     },
     "output_type": "display_data"
    }
   ],
   "source": [
    "plt.semilogy(snrs, soft_encode, label='Кодирование производилось')\n",
    "plt.semilogy(snrs, soft_no_encode, label='Кодирование не производилось')\n",
    "plt.legend(loc='upper right')\n",
    "plt.title('Зависимость p от Eb/N0 (Дб) при мягком декодировании')\n",
    "plt.xlabel('Eb/N0 (дБ)')\n",
    "plt.ylabel('p')\n",
    "plt.grid(which='major')\n",
    "plt.show()"
   ]
  }
 ],
 "metadata": {
  "kernelspec": {
   "display_name": "Python 3",
   "language": "python",
   "name": "python3"
  },
  "language_info": {
   "codemirror_mode": {
    "name": "ipython",
    "version": 3
   },
   "file_extension": ".py",
   "mimetype": "text/x-python",
   "name": "python",
   "nbconvert_exporter": "python",
   "pygments_lexer": "ipython3",
   "version": "3.7.4"
  }
 },
 "nbformat": 4,
 "nbformat_minor": 2
}