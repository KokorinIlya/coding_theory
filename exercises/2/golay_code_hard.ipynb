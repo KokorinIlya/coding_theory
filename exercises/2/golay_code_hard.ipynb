{
 "cells": [
  {
   "cell_type": "code",
   "execution_count": 1,
   "metadata": {},
   "outputs": [],
   "source": [
    "import numpy as np\n",
    "import math\n",
    "import matplotlib.pyplot as plt\n",
    "from tqdm import tqdm_notebook"
   ]
  },
  {
   "cell_type": "code",
   "execution_count": 2,
   "metadata": {},
   "outputs": [],
   "source": [
    "# Подсчитывает расстояние Хэмминга\n",
    "def vector_dist(vect1, vect2):\n",
    "    return np.sum(np.abs(vect1 - vect2))\n",
    "\n",
    "# Перемножает матрицы в F2\n",
    "def multiply_matrix(mat1, mat2):\n",
    "    return np.mod(np.dot(mat1, mat2), 2)\n",
    "\n",
    "# Получает все возможные двоичные вектора заданной длины\n",
    "def generate_binary_vectors(vect_len):\n",
    "    def get_all_vectors(vector_len, cur_vectors):\n",
    "        if len(cur_vectors[0]) == vector_len: # если вектора уже нужного размера, возвращаем их\n",
    "            return cur_vectors\n",
    "        \n",
    "        # в противном случае каждый вектор может быть продолжен двумя способами:\n",
    "        # нулём и единицей\n",
    "        new_vectors = []\n",
    "        for cur_vector in cur_vectors:\n",
    "            cur_vector_zero = cur_vector[:]\n",
    "            cur_vector_zero.append(0)\n",
    "\n",
    "            cur_vector_one = cur_vector[:]\n",
    "            cur_vector_one.append(1)\n",
    "            new_vectors.append(cur_vector_zero)\n",
    "            new_vectors.append(cur_vector_one)\n",
    "        return get_all_vectors(vector_len, new_vectors)\n",
    "    \n",
    "    answer = get_all_vectors(vect_len, [[]])\n",
    "    assert len(answer) == 2 ** vect_len\n",
    "    \n",
    "    # оборачиваем в numpy-массивы для ускорения вычислений\n",
    "    return np.array(answer)"
   ]
  },
  {
   "cell_type": "code",
   "execution_count": 3,
   "metadata": {},
   "outputs": [],
   "source": [
    "# Порождающая матрица кода Голея\n",
    "G = np.array(\n",
    "    [\n",
    "        [1,0,0,0,0,0,0,0,0,0,0,0,1,0,1,0,1,1,1,0,0,0,1],\n",
    "        [0,1,0,0,0,0,0,0,0,0,0,0,1,1,1,1,1,0,0,1,0,0,1],\n",
    "        [0,0,1,0,0,0,0,0,0,0,0,0,1,1,0,1,0,0,1,0,1,0,1],\n",
    "        [0,0,0,1,0,0,0,0,0,0,0,0,1,1,0,0,0,1,1,1,0,1,1],\n",
    "        [0,0,0,0,1,0,0,0,0,0,0,0,1,1,0,0,1,1,0,1,1,0,0],\n",
    "        [0,0,0,0,0,1,0,0,0,0,0,0,0,1,1,0,0,1,1,0,1,1,0],\n",
    "        [0,0,0,0,0,0,1,0,0,0,0,0,0,0,1,1,0,0,1,1,0,1,1],\n",
    "        [0,0,0,0,0,0,0,1,0,0,0,0,1,0,1,1,0,1,1,1,1,0,0],\n",
    "        [0,0,0,0,0,0,0,0,1,0,0,0,0,1,0,1,1,0,1,1,1,1,0],\n",
    "        [0,0,0,0,0,0,0,0,0,1,0,0,0,0,1,0,1,1,0,1,1,1,1],\n",
    "        [0,0,0,0,0,0,0,0,0,0,1,0,1,0,1,1,1,0,0,0,1,1,0],\n",
    "        [0,0,0,0,0,0,0,0,0,0,0,1,0,1,0,1,1,1,0,0,0,1,1]\n",
    "    ]\n",
    ")\n",
    "\n",
    "# 12 - размер сообщения до кодирования\n",
    "# 23 - размер сообщения после кодирования\n",
    "k = 12\n",
    "n = 23\n",
    "\n",
    "Eb = 1 # Фиксируем произвольным образом энергию на передаваемый бит\n",
    "\n",
    "# Передаваемые сообщения - все вектора размера k\n",
    "messages = generate_binary_vectors(k)\n",
    "\n",
    "assert messages.shape == (2 ** k, k)"
   ]
  },
  {
   "cell_type": "code",
   "execution_count": 4,
   "metadata": {},
   "outputs": [],
   "source": [
    "codewords = np.array([\n",
    "    multiply_matrix(cur_message, G) for cur_message in messages\n",
    "])\n",
    "\n",
    "assert codewords.shape == (2 ** k, n)"
   ]
  },
  {
   "cell_type": "code",
   "execution_count": 5,
   "metadata": {},
   "outputs": [],
   "source": [
    "# При жёстком декодировании полученный вектор должен быть битовым\n",
    "# а при мягком - состоять из модуляций    \n",
    "def decode_hard(received_word, codewords):\n",
    "    distances = np.array([vector_dist(received_word, cur_codeword) for cur_codeword in codewords])\n",
    "    return messages[np.argmin(distances)]\n",
    "\n",
    "def decode_soft(received_word, codewords):\n",
    "    modulated_codewords = np.array([(2 * codeword - 1) for codeword in codewords])\n",
    "    scalar_products = np.array([\n",
    "        np.dot(cur_modulated_codeword, received_word) for cur_modulated_codeword in modulated_codewords\n",
    "    ])\n",
    "    return messages[np.argmax(scalar_products)]\n",
    "    \n",
    "# преобразует полученные модуляции в биты для жёсткого декодирования\n",
    "# в случае мягкого декодирования никак преобразовывать модуляции не надо\n",
    "demodulate_hard = np.vectorize(lambda x: 1 if x >= 0 else 0)    \n",
    "    \n",
    "# 10 * lg(Eb / N0) = t => lg(Eb / N0) = t / 10 => Eb / N0 = 10 ** (t / 10) => N0 = Eb / (10 ** (t / 10))\n",
    "# Таким образом можно вычислить N0\n",
    "# моделирует отправку по каналу с аддитивным белым гауссовским шумом\n",
    "def send(codeword_to_send, snr):\n",
    "    N0 = Eb / (10 ** (snr / 10)) # по отношению сингал/шум получаем N0\n",
    "    Ec = Eb * k / len(codeword_to_send) # энергия на передаваемый символ\n",
    "    noise = np.random.normal(0, math.sqrt(N0 / 2), len(codeword_to_send)) # добавляем аддитивный гауссовский белый шум\n",
    "    return (2 * codeword_to_send - 1) * math.sqrt(Ec) + noise"
   ]
  },
  {
   "cell_type": "code",
   "execution_count": 6,
   "metadata": {},
   "outputs": [],
   "source": [
    "# Моделирует отправку сообщения с кодированием, возвращая расстояние между отправленным и полученным вектором\n",
    "def send_with_encoding(msg, snr, decoder_type):\n",
    "    code_word = multiply_matrix(msg, G) # По k-битному слову получаем n-битный код\n",
    "    # внося избыточность в данные\n",
    "    moduled_received = send(code_word, snr) # Превращение бит в модуляции и добавление АБГШ\n",
    "    if decoder_type == 'hard':\n",
    "        received_word = demodulate_hard(moduled_received)\n",
    "        received_msg = decode_hard(received_word, codewords)\n",
    "    else:\n",
    "        received_msg = decode_soft(moduled_received, codewords)\n",
    "    return vector_dist(msg, received_msg)\n",
    "\n",
    "# Моделирует отправку сообщения без кодирования, возвращая расстояние между отправленным и полученным вектором\n",
    "def send_without_encoding(msg, snr, decoder_type):\n",
    "    signals = send(msg, snr)\n",
    "    if decoder_type == 'hard':\n",
    "        return vector_dist(msg, demodulate_hard(signals))\n",
    "    else:\n",
    "        received_msg = decode_soft(signals, messages)\n",
    "        return vector_dist(msg, received_msg)"
   ]
  },
  {
   "cell_type": "code",
   "execution_count": 7,
   "metadata": {},
   "outputs": [],
   "source": [
    "# message_sender - функция, используемая для моделирования отправки сообщения. Может\n",
    "# быть функцией с кодированием, а может без\n",
    "# возвращает вероятность ошибки в одном бите (переходную вероятность)\n",
    "def get_p(snr, message_sender, decoder_type):\n",
    "    sum_res = 0\n",
    "    retries = 30\n",
    "    for i in range(retries):\n",
    "        for msg in messages:\n",
    "            sum_res += message_sender(msg, snr, decoder_type)\n",
    "    return sum_res / (retries * (2 ** k) * k)"
   ]
  },
  {
   "cell_type": "code",
   "execution_count": 8,
   "metadata": {},
   "outputs": [],
   "source": [
    "snrs = list(np.arange(-2, 12, 0.25)) # различные отношения сигнал/шум"
   ]
  },
  {
   "cell_type": "code",
   "execution_count": 9,
   "metadata": {},
   "outputs": [
    {
     "data": {
      "application/vnd.jupyter.widget-view+json": {
       "model_id": "ebf77aeae0d54a528e543f40d20a898c",
       "version_major": 2,
       "version_minor": 0
      },
      "text/plain": [
       "HBox(children=(IntProgress(value=0, max=56), HTML(value='')))"
      ]
     },
     "metadata": {},
     "output_type": "display_data"
    },
    {
     "name": "stdout",
     "output_type": "stream",
     "text": [
      "\n"
     ]
    }
   ],
   "source": [
    "hard_encode = np.array([get_p(cur_snr, send_with_encoding, 'hard') for cur_snr in tqdm_notebook(snrs)])"
   ]
  },
  {
   "cell_type": "code",
   "execution_count": 10,
   "metadata": {},
   "outputs": [
    {
     "data": {
      "application/vnd.jupyter.widget-view+json": {
       "model_id": "0c96aef6ea10468b9ae399e41d91986e",
       "version_major": 2,
       "version_minor": 0
      },
      "text/plain": [
       "HBox(children=(IntProgress(value=0, max=56), HTML(value='')))"
      ]
     },
     "metadata": {},
     "output_type": "display_data"
    },
    {
     "name": "stdout",
     "output_type": "stream",
     "text": [
      "\n"
     ]
    }
   ],
   "source": [
    "hard_no_encode = np.array([get_p(cur_snr, send_without_encoding, 'hard') for cur_snr in tqdm_notebook(snrs)])"
   ]
  },
  {
   "cell_type": "code",
   "execution_count": 11,
   "metadata": {},
   "outputs": [
    {
     "data": {
      "text/plain": [
       "array([2.45106337e-01, 2.35753038e-01, 2.24696859e-01, 2.13435194e-01,\n",
       "       2.02838813e-01, 1.90677219e-01, 1.79083252e-01, 1.68349881e-01,\n",
       "       1.54176839e-01, 1.42299398e-01, 1.28894043e-01, 1.17026096e-01,\n",
       "       1.04012722e-01, 9.28548177e-02, 8.13083225e-02, 6.99015299e-02,\n",
       "       5.98347982e-02, 4.98602973e-02, 4.14638943e-02, 3.44679091e-02,\n",
       "       2.76679145e-02, 2.17529297e-02, 1.71956380e-02, 1.28770616e-02,\n",
       "       9.65711806e-03, 6.79389106e-03, 4.97504340e-03, 3.31827799e-03,\n",
       "       2.32069227e-03, 1.53333876e-03, 1.04641385e-03, 7.05973307e-04,\n",
       "       3.72314453e-04, 2.02772352e-04, 1.02403429e-04, 6.30696615e-05,\n",
       "       5.08626302e-05, 2.30577257e-05, 9.49435764e-06, 0.00000000e+00,\n",
       "       5.42534722e-06, 0.00000000e+00, 0.00000000e+00, 0.00000000e+00,\n",
       "       0.00000000e+00, 0.00000000e+00, 0.00000000e+00, 0.00000000e+00,\n",
       "       0.00000000e+00, 0.00000000e+00, 0.00000000e+00, 0.00000000e+00,\n",
       "       0.00000000e+00, 0.00000000e+00, 0.00000000e+00, 0.00000000e+00])"
      ]
     },
     "execution_count": 11,
     "metadata": {},
     "output_type": "execute_result"
    }
   ],
   "source": [
    "hard_encode"
   ]
  },
  {
   "cell_type": "code",
   "execution_count": 12,
   "metadata": {},
   "outputs": [
    {
     "data": {
      "text/plain": [
       "array([1.30850559e-01, 1.23965793e-01, 1.16789415e-01, 1.10150146e-01,\n",
       "       1.03716363e-01, 9.72174750e-02, 9.09925673e-02, 8.48700629e-02,\n",
       "       7.88472493e-02, 7.25165473e-02, 6.73095703e-02, 6.15593804e-02,\n",
       "       5.63917372e-02, 5.11447483e-02, 4.64043511e-02, 4.18362088e-02,\n",
       "       3.75705295e-02, 3.35639106e-02, 2.97804091e-02, 2.61617025e-02,\n",
       "       2.29139540e-02, 1.98520237e-02, 1.71447754e-02, 1.48505317e-02,\n",
       "       1.25467936e-02, 1.04363336e-02, 8.71717665e-03, 7.38932292e-03,\n",
       "       6.03976780e-03, 4.79329427e-03, 3.87708876e-03, 3.15619575e-03,\n",
       "       2.33629015e-03, 1.74357096e-03, 1.41872830e-03, 1.11423069e-03,\n",
       "       7.31743707e-04, 5.43891059e-04, 4.02832031e-04, 2.88899740e-04,\n",
       "       1.99381510e-04, 1.33599175e-04, 9.83344184e-05, 4.74717882e-05,\n",
       "       3.18739149e-05, 1.96668837e-05, 1.01725260e-05, 5.42534722e-06,\n",
       "       1.35633681e-06, 4.74717882e-06, 0.00000000e+00, 0.00000000e+00,\n",
       "       0.00000000e+00, 0.00000000e+00, 0.00000000e+00, 0.00000000e+00])"
      ]
     },
     "execution_count": 12,
     "metadata": {},
     "output_type": "execute_result"
    }
   ],
   "source": [
    "hard_no_encode"
   ]
  },
  {
   "cell_type": "code",
   "execution_count": 13,
   "metadata": {},
   "outputs": [
    {
     "data": {
      "image/png": "[encoded data removed]",
      "text/plain": [
       "<Figure size 432x288 with 1 Axes>"
      ]
     },
     "metadata": {
      "needs_background": "light"
     },
     "output_type": "display_data"
    }
   ],
   "source": [
    "plt.figure()\n",
    "plt.semilogy(snrs, hard_encode, label='С кодированием')\n",
    "plt.semilogy(snrs, hard_no_encode, label='Без кодирования')\n",
    "plt.legend(loc='upper right')\n",
    "plt.title('Переходные вероятности ДСК при жёстком декодировании для отправки с кодированием и без')\n",
    "plt.xlabel('Отношение сигнал/шум')\n",
    "plt.ylabel('Переходная вероятность')\n",
    "plt.show()"
   ]
  },
  {
   "cell_type": "code",
   "execution_count": 14,
   "metadata": {},
   "outputs": [
    {
     "data": {
      "text/plain": [
       "((56,), (56,), 56)"
      ]
     },
     "execution_count": 14,
     "metadata": {},
     "output_type": "execute_result"
    }
   ],
   "source": [
    "hard_encode.shape, hard_no_encode.shape, len(snrs)"
   ]
  },
  {
   "cell_type": "code",
   "execution_count": 15,
   "metadata": {},
   "outputs": [],
   "source": [
    "dists = [] \n",
    "# разность между отношением сигнал/шум, необходимым для достижения заданной вероятности ошибок\n",
    "# с кодированием и без\n",
    "dist_ps = [] # заданные вероятности ошибок\n",
    "\n",
    "for ind in range(len(snrs)):\n",
    "    if hard_encode[ind] > 1e-9: # выбираем ненулевую вероятность ошибок при отправке с кодированием\n",
    "        nearest_p_ind = np.argmin(abs(hard_no_encode - hard_encode[ind])) \n",
    "        # находим индекс ближайшей к ней вероятности ошибки при отправке без кодирования\n",
    "        dists.append(snrs[nearest_p_ind] - snrs[ind]) # сохраняем разность между отношениями сигнал/шум\n",
    "        dist_ps.append(hard_encode[ind]) # и заданную вероятность"
   ]
  },
  {
   "cell_type": "code",
   "execution_count": 16,
   "metadata": {},
   "outputs": [
    {
     "data": {
      "image/png": "[encoded data removed]",
      "text/plain": [
       "<Figure size 432x288 with 1 Axes>"
      ]
     },
     "metadata": {
      "needs_background": "light"
     },
     "output_type": "display_data"
    }
   ],
   "source": [
    "plt.semilogx(dist_ps, dists)\n",
    "plt.title('Зависимость энергетического выигрыша кодирования от переходной вероятности ДСК при жёстком декодировании')\n",
    "plt.xlabel('Переходная вероятность')\n",
    "plt.ylabel('Энергетичесий выигрыш')\n",
    "plt.show()"
   ]
  },
  {
   "cell_type": "code",
   "execution_count": null,
   "metadata": {},
   "outputs": [],
   "source": []
  }
 ],
 "metadata": {
  "kernelspec": {
   "display_name": "Python 3",
   "language": "python",
   "name": "python3"
  },
  "language_info": {
   "codemirror_mode": {
    "name": "ipython",
    "version": 3
   },
   "file_extension": ".py",
   "mimetype": "text/x-python",
   "name": "python",
   "nbconvert_exporter": "python",
   "pygments_lexer": "ipython3",
   "version": "3.7.4"
  }
 },
 "nbformat": 4,
 "nbformat_minor": 2
}
