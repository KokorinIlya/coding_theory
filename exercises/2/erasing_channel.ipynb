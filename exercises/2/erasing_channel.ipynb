{
 "cells": [
  {
   "cell_type": "code",
   "execution_count": 1,
   "metadata": {},
   "outputs": [],
   "source": [
    "import numpy as np\n",
    "import math\n",
    "import matplotlib.pyplot as plt\n",
    "from tqdm import tqdm\n",
    "import random"
   ]
  },
  {
   "cell_type": "code",
   "execution_count": 2,
   "metadata": {},
   "outputs": [
    {
     "data": {
      "text/plain": [
       "2.3829847041728445"
      ]
     },
     "execution_count": 2,
     "metadata": {},
     "output_type": "execute_result"
    }
   ],
   "source": [
    "SNR = 3 # фиксируем отношение сигнал/шум\n",
    "Eb = 1 # фиксируем энергию на бит\n",
    "N0 = SNR / (10 ** (Eb / 10)) # вычисляем N0 по характеристикам канал\n",
    "N0"
   ]
  },
  {
   "cell_type": "code",
   "execution_count": 3,
   "metadata": {},
   "outputs": [],
   "source": [
    "# по биту получает зашумлённое значение в канале с АБГШ\n",
    "def modulate(cur_bit):\n",
    "    return (2 * cur_bit - 1) + np.random.normal(0, math.sqrt(N0 / 2))\n",
    "\n",
    "# по модуляции получает исходный бит\n",
    "def demodulate(x):\n",
    "    if x > 0:\n",
    "        return 1\n",
    "    else:\n",
    "        return 0\n",
    "\n",
    "# энтропия двоичного ансамбля\n",
    "def h(x):\n",
    "    if abs(x) < 1e-9 or abs(1 - x) < 1e-9:\n",
    "        return 0\n",
    "    else:\n",
    "        return -x * math.log2(x) - (1 - x) * math.log2(1 - x)"
   ]
  },
  {
   "cell_type": "code",
   "execution_count": 4,
   "metadata": {},
   "outputs": [
    {
     "name": "stderr",
     "output_type": "stream",
     "text": [
      "100%|██████████| 1000/1000 [07:20<00:00,  2.27it/s]\n"
     ]
    }
   ],
   "source": [
    "deltas = list(np.linspace(0.01, 2, 1000))\n",
    "cs = []\n",
    "\n",
    "for delta in tqdm(deltas):\n",
    "    retries = 100000 # чем больше повторов, тем плавнее будет график, и тем дольше вычисления\n",
    "    wrong = 0 # количество ошибок\n",
    "    erased = 0 # количество стираний\n",
    "    \n",
    "    for _ in range(retries):\n",
    "        cur_bit = random.choice([0, 1]) # выбираем случайный бит\n",
    "        modulation = modulate(cur_bit) # моделируем его отправку по каналу с АБГШ\n",
    "        if abs(modulation) < delta: # если значение получилось слишком близким к нулю, стираем\n",
    "            erased += 1\n",
    "        else:\n",
    "            # иначе расшифровываем и проверяем, правильно ли расшифровалось\n",
    "            demodulated = demodulate(modulation)\n",
    "            if (demodulated == 0 and cur_bit == 1) or (demodulated == 1 and cur_bit == 0):\n",
    "                wrong += 1\n",
    "    \n",
    "    e = erased / retries # считаем эмпирическую вероятность стирания\n",
    "    p = wrong / retries # считаем эмпирическую вероятность ошибки\n",
    "    \n",
    "    c = (1 - e) * (1 - h(p / (1 - e))) # вычисляем пропускую способность канала\n",
    "    cs.append(c)"
   ]
  },
  {
   "cell_type": "code",
   "execution_count": 6,
   "metadata": {},
   "outputs": [
    {
     "data": {
      "image/png": "[encoded data removed]",
      "text/plain": [
       "<Figure size 432x288 with 1 Axes>"
      ]
     },
     "metadata": {
      "needs_background": "light"
     },
     "output_type": "display_data"
    }
   ],
   "source": [
    "plt.plot(deltas, cs)\n",
    "plt.xlabel('Delta')\n",
    "plt.ylabel('c')\n",
    "plt.title('Зависимость пропускной способности канала от параметра стирания дельта')\n",
    "plt.show()"
   ]
  },
  {
   "cell_type": "code",
   "execution_count": null,
   "metadata": {},
   "outputs": [],
   "source": []
  }
 ],
 "metadata": {
  "kernelspec": {
   "display_name": "Python 3",
   "language": "python",
   "name": "python3"
  },
  "language_info": {
   "codemirror_mode": {
    "name": "ipython",
    "version": 3
   },
   "file_extension": ".py",
   "mimetype": "text/x-python",
   "name": "python",
   "nbconvert_exporter": "python",
   "pygments_lexer": "ipython3",
   "version": "3.7.4"
  }
 },
 "nbformat": 4,
 "nbformat_minor": 2
}
