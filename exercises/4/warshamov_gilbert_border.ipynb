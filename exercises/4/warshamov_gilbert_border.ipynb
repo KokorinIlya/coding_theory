{
 "cells": [
  {
   "cell_type": "code",
   "execution_count": 1,
   "metadata": {},
   "outputs": [],
   "source": [
    "import numpy as np\n",
    "import math\n",
    "from tqdm import tqdm_notebook\n",
    "import matplotlib.pyplot as plt\n",
    "import datetime"
   ]
  },
  {
   "cell_type": "code",
   "execution_count": 2,
   "metadata": {},
   "outputs": [],
   "source": [
    "def c(n, k):\n",
    "    return math.factorial(n) // (math.factorial(k) * math.factorial(n - k))"
   ]
  },
  {
   "cell_type": "code",
   "execution_count": 3,
   "metadata": {},
   "outputs": [],
   "source": [
    "def check_hilbert(n, k, d):\n",
    "    total_sum = 0\n",
    "    for i in range(d - 1):\n",
    "        total_sum += c(n - 1, i)\n",
    "    return total_sum < 2 ** (n - k)"
   ]
  },
  {
   "cell_type": "code",
   "execution_count": 4,
   "metadata": {},
   "outputs": [],
   "source": [
    "def find_hilbert(n, k):\n",
    "    cur_d = 1\n",
    "    while True:\n",
    "        if not check_hilbert(n, k, cur_d):\n",
    "            return cur_d - 1\n",
    "        else:\n",
    "            cur_d += 1"
   ]
  },
  {
   "cell_type": "code",
   "execution_count": 5,
   "metadata": {},
   "outputs": [],
   "source": [
    "def generate_binary_vectors(vect_len):\n",
    "    def get_all_vectors(vector_len, cur_vectors):\n",
    "        if len(cur_vectors[0]) == vector_len: # если вектора уже нужного размера, возвращаем их\n",
    "            return cur_vectors\n",
    "        \n",
    "        new_vectors = []\n",
    "        for cur_vector in cur_vectors:\n",
    "            cur_vector_zero = cur_vector[:]\n",
    "            cur_vector_zero.append(0)\n",
    "\n",
    "            cur_vector_one = cur_vector[:]\n",
    "            cur_vector_one.append(1)\n",
    "            new_vectors.append(cur_vector_zero)\n",
    "            new_vectors.append(cur_vector_one)\n",
    "        return get_all_vectors(vector_len, new_vectors)\n",
    "    \n",
    "    answer = get_all_vectors(vect_len, [[]])\n",
    "    assert len(answer) == 2 ** vect_len\n",
    "    \n",
    "    return set([tuple(x) for x in answer])"
   ]
  },
  {
   "cell_type": "code",
   "execution_count": 6,
   "metadata": {},
   "outputs": [],
   "source": [
    "def get_first(s):\n",
    "    for x in s:\n",
    "        return x"
   ]
  },
  {
   "cell_type": "code",
   "execution_count": 7,
   "metadata": {},
   "outputs": [],
   "source": [
    "def build_hilbert(n, k):\n",
    "    r = n - k\n",
    "    # будем составлять проверочную матрицу размера r строк на n столбцов\n",
    "    # каждые её d - 1 столбцов будут ЛНЗ\n",
    "    H = [[None for _ in range(n)] for _ in range(r)]\n",
    "    # находим границу Варшамова-Гилберта\n",
    "    d = find_hilbert(n, k)\n",
    "    \n",
    "    # получаем все потенциальные вектор-столбцы матрицы H\n",
    "    possible_vects = generate_binary_vectors(r)\n",
    "    \n",
    "    # составляем текущий столбец матрицы H\n",
    "    for cur_num in range(n):\n",
    "        # получаем все линейные комбинации, состоящие из не более чем d - 2 векторов-столбцов матрицы H \n",
    "        linear_coeffs = filter(\n",
    "            lambda cs: sum(cs) <= d - 2,\n",
    "            generate_binary_vectors(cur_num)\n",
    "        )\n",
    "        # перебираем коэффициенты текущей линейной комбинации\n",
    "        for cur_cs in linear_coeffs:\n",
    "            # составляем текущую линейную комбинацию\n",
    "            cur_linear_combination = [0 for _ in range(r)]\n",
    "            for i in range(cur_num):\n",
    "                cur_c = cur_cs[i]\n",
    "                if cur_c == 1:\n",
    "                    # добавляем в текущую линейную комбинацию вектор-столбец матрицы H, который в неё включается\n",
    "                    for j in range(r):\n",
    "                        cur_linear_combination[j] = (cur_linear_combination[j] + H[j][i]) % 2\n",
    "            # исключаем линейную комбинацию из списка векторов-кандидатов\n",
    "            found_vect = tuple(cur_linear_combination)\n",
    "            if found_vect in possible_vects:\n",
    "                possible_vects.remove(found_vect)\n",
    "        \n",
    "        # берём случайный вектор, который не был исключён на предыдущих шагах\n",
    "        # делаем его текущим вектор-стобцом матрицы H\n",
    "        vect = get_first(possible_vects)\n",
    "        possible_vects.remove(vect)\n",
    "        \n",
    "        for i in range(r):\n",
    "            H[i][cur_num] = vect[i]\n",
    "    return H, d"
   ]
  },
  {
   "cell_type": "code",
   "execution_count": 8,
   "metadata": {},
   "outputs": [
    {
     "data": {
      "application/vnd.jupyter.widget-view+json": {
       "model_id": "f5e21895e1814166935bc50294468808",
       "version_major": 2,
       "version_minor": 0
      },
      "text/plain": [
       "HBox(children=(IntProgress(value=0, max=20), HTML(value='')))"
      ]
     },
     "metadata": {},
     "output_type": "display_data"
    },
    {
     "name": "stdout",
     "output_type": "stream",
     "text": [
      "\n"
     ]
    }
   ],
   "source": [
    "times = []\n",
    "ns = list(range(5, 25))\n",
    "\n",
    "for n in tqdm_notebook(ns):\n",
    "    start_time = datetime.datetime.now()\n",
    "    k = n // 2\n",
    "    H, d = build_hilbert(n, k)\n",
    "    timedelta = (datetime.datetime.now() - start_time).seconds\n",
    "    times.append(timedelta)"
   ]
  },
  {
   "cell_type": "code",
   "execution_count": 11,
   "metadata": {},
   "outputs": [
    {
     "data": {
      "image/png": "[encoded data removed]",
      "text/plain": [
       "<Figure size 432x288 with 1 Axes>"
      ]
     },
     "metadata": {
      "needs_background": "light"
     },
     "output_type": "display_data"
    }
   ],
   "source": [
    "plt.plot(ns, times)\n",
    "plt.title('Время в секундах, необходимое для построения кода, достигающего границы Варшамова-Гилберта')\n",
    "plt.show()"
   ]
  },
  {
   "cell_type": "code",
   "execution_count": null,
   "metadata": {},
   "outputs": [],
   "source": []
  }
 ],
 "metadata": {
  "kernelspec": {
   "display_name": "Python 3",
   "language": "python",
   "name": "python3"
  },
  "language_info": {
   "codemirror_mode": {
    "name": "ipython",
    "version": 3
   },
   "file_extension": ".py",
   "mimetype": "text/x-python",
   "name": "python",
   "nbconvert_exporter": "python",
   "pygments_lexer": "ipython3",
   "version": "3.7.4"
  }
 },
 "nbformat": 4,
 "nbformat_minor": 2
}
